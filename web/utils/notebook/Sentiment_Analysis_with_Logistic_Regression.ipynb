{
  "nbformat": 4,
  "nbformat_minor": 0,
  "metadata": {
    "colab": {
      "name": "Sentiment-Analysis-with-Logistic-Regression.ipynb",
      "provenance": [],
      "collapsed_sections": [],
      "toc_visible": true
    },
    "kernelspec": {
      "name": "python3",
      "display_name": "Python 3"
    }
  },
  "cells": [
    {
      "cell_type": "markdown",
      "metadata": {
        "id": "1RbT1N-9N8wq",
        "colab_type": "text"
      },
      "source": [
        "# Análise de Sentimento utilizando Regressão Logística"
      ]
    },
    {
      "cell_type": "markdown",
      "metadata": {
        "id": "NhqP4QXHOTFh",
        "colab_type": "text"
      },
      "source": [
        "## Introdução\n",
        "\n",
        "### Sobre o conjunto de dados\n",
        "\n",
        "- O dataset utilizado será do IMDB contendo varias avaliações de filmes, está disponível em: http://ai.stanford.edu/~amaas/data/sentiment\n",
        "\n",
        "  - O dataset contem 25000 avaliações positivas(label=1) e 25000 avaliações negativas(label=0)\n",
        "  - O conjuto de dados possui apenas duas colunas: review(avaliação) e sentiment(sentimento)\n",
        "\n",
        "\n",
        "### Modelo de regressão logística"
      ]
    },
    {
      "cell_type": "markdown",
      "metadata": {
        "id": "2c5_ZYQTOnew",
        "colab_type": "text"
      },
      "source": [
        "### Importando as bibliotecas necessárias para o projeto\n",
        "---"
      ]
    },
    {
      "cell_type": "code",
      "metadata": {
        "id": "Bp7x_NBWOxm_",
        "colab_type": "code",
        "colab": {}
      },
      "source": [
        "import pandas as pd\n",
        "import numpy as np\n",
        "from sklearn.feature_extraction.text import CountVectorizer\n",
        "from sklearn.pipeline import Pipeline\n",
        "from sklearn.linear_model import LogisticRegression\n",
        "from sklearn.feature_extraction.text import TfidfVectorizer\n",
        "from sklearn.model_selection import GridSearchCV\n",
        "from nltk.stem.porter import PorterStemmer\n",
        "import pickle\n"
      ],
      "execution_count": null,
      "outputs": []
    },
    {
      "cell_type": "code",
      "metadata": {
        "id": "oczVeWL9NOGe",
        "colab_type": "code",
        "colab": {
          "base_uri": "https://localhost:8080/",
          "height": 204
        },
        "outputId": "9b22b81d-f0f1-4682-f31c-b65526d03bce"
      },
      "source": [
        "# Carregando o dataset\n",
        "dataset_uri = \"https://raw.githubusercontent.com/marcostark/Learning-Data-Science/master/desafios/datasets/imdb_movie_data.csv\"\n",
        "\n",
        "df_movies = pd.read_csv(dataset_uri)\n",
        "df_movies.head()"
      ],
      "execution_count": null,
      "outputs": [
        {
          "output_type": "execute_result",
          "data": {
            "text/html": [
              "<div>\n",
              "<style scoped>\n",
              "    .dataframe tbody tr th:only-of-type {\n",
              "        vertical-align: middle;\n",
              "    }\n",
              "\n",
              "    .dataframe tbody tr th {\n",
              "        vertical-align: top;\n",
              "    }\n",
              "\n",
              "    .dataframe thead th {\n",
              "        text-align: right;\n",
              "    }\n",
              "</style>\n",
              "<table border=\"1\" class=\"dataframe\">\n",
              "  <thead>\n",
              "    <tr style=\"text-align: right;\">\n",
              "      <th></th>\n",
              "      <th>review</th>\n",
              "      <th>sentiment</th>\n",
              "    </tr>\n",
              "  </thead>\n",
              "  <tbody>\n",
              "    <tr>\n",
              "      <th>0</th>\n",
              "      <td>In 1974, the teenager Martha Moxley (Maggie Gr...</td>\n",
              "      <td>1</td>\n",
              "    </tr>\n",
              "    <tr>\n",
              "      <th>1</th>\n",
              "      <td>OK... so... I really like Kris Kristofferson a...</td>\n",
              "      <td>0</td>\n",
              "    </tr>\n",
              "    <tr>\n",
              "      <th>2</th>\n",
              "      <td>***SPOILER*** Do not read this, if you think a...</td>\n",
              "      <td>0</td>\n",
              "    </tr>\n",
              "    <tr>\n",
              "      <th>3</th>\n",
              "      <td>hi for all the people who have seen this wonde...</td>\n",
              "      <td>1</td>\n",
              "    </tr>\n",
              "    <tr>\n",
              "      <th>4</th>\n",
              "      <td>I recently bought the DVD, forgetting just how...</td>\n",
              "      <td>0</td>\n",
              "    </tr>\n",
              "  </tbody>\n",
              "</table>\n",
              "</div>"
            ],
            "text/plain": [
              "                                              review  sentiment\n",
              "0  In 1974, the teenager Martha Moxley (Maggie Gr...          1\n",
              "1  OK... so... I really like Kris Kristofferson a...          0\n",
              "2  ***SPOILER*** Do not read this, if you think a...          0\n",
              "3  hi for all the people who have seen this wonde...          1\n",
              "4  I recently bought the DVD, forgetting just how...          0"
            ]
          },
          "metadata": {
            "tags": []
          },
          "execution_count": 2
        }
      ]
    },
    {
      "cell_type": "code",
      "metadata": {
        "id": "5soB9qD5PNvL",
        "colab_type": "code",
        "colab": {
          "base_uri": "https://localhost:8080/",
          "height": 34
        },
        "outputId": "a3e37932-159e-4fc9-98f5-09cc3b19e23f"
      },
      "source": [
        "# Total de avalições\n",
        "print(df_movies.shape)"
      ],
      "execution_count": null,
      "outputs": [
        {
          "output_type": "stream",
          "text": [
            "(50000, 2)\n"
          ],
          "name": "stdout"
        }
      ]
    },
    {
      "cell_type": "code",
      "metadata": {
        "id": "6KOB-ZXbSmSq",
        "colab_type": "code",
        "colab": {
          "base_uri": "https://localhost:8080/",
          "height": 34
        },
        "outputId": "87ba62e8-63e5-42f9-f1dd-cdb3f290de05"
      },
      "source": [
        "df_movies.columns"
      ],
      "execution_count": null,
      "outputs": [
        {
          "output_type": "execute_result",
          "data": {
            "text/plain": [
              "Index(['review', 'sentiment'], dtype='object')"
            ]
          },
          "metadata": {
            "tags": []
          },
          "execution_count": 4
        }
      ]
    },
    {
      "cell_type": "code",
      "metadata": {
        "id": "NJzAwG-SRs5I",
        "colab_type": "code",
        "colab": {
          "base_uri": "https://localhost:8080/",
          "height": 125
        },
        "outputId": "0cfa3842-efcb-4eb7-ee04-a8c80561bc3f"
      },
      "source": [
        "# Labels do dataset: (label=1), Negativo(label=0)\n",
        "df_movies.set_index(['review', 'sentiment']).count(level='sentiment')"
      ],
      "execution_count": null,
      "outputs": [
        {
          "output_type": "execute_result",
          "data": {
            "text/html": [
              "<div>\n",
              "<style scoped>\n",
              "    .dataframe tbody tr th:only-of-type {\n",
              "        vertical-align: middle;\n",
              "    }\n",
              "\n",
              "    .dataframe tbody tr th {\n",
              "        vertical-align: top;\n",
              "    }\n",
              "\n",
              "    .dataframe thead th {\n",
              "        text-align: right;\n",
              "    }\n",
              "</style>\n",
              "<table border=\"1\" class=\"dataframe\">\n",
              "  <thead>\n",
              "    <tr style=\"text-align: right;\">\n",
              "      <th></th>\n",
              "    </tr>\n",
              "    <tr>\n",
              "      <th>sentiment</th>\n",
              "    </tr>\n",
              "  </thead>\n",
              "  <tbody>\n",
              "    <tr>\n",
              "      <th>0</th>\n",
              "    </tr>\n",
              "    <tr>\n",
              "      <th>1</th>\n",
              "    </tr>\n",
              "  </tbody>\n",
              "</table>\n",
              "</div>"
            ],
            "text/plain": [
              "Empty DataFrame\n",
              "Columns: []\n",
              "Index: [0, 1]"
            ]
          },
          "metadata": {
            "tags": []
          },
          "execution_count": 5
        }
      ]
    },
    {
      "cell_type": "code",
      "metadata": {
        "id": "AbMJGDSwTEqz",
        "colab_type": "code",
        "colab": {
          "base_uri": "https://localhost:8080/",
          "height": 68
        },
        "outputId": "82a5303c-38d7-45a6-b39c-185e6c040a4f"
      },
      "source": [
        "# Número de labels que representam sentimento positivo\n",
        "df_movies[df_movies.sentiment==1].count()"
      ],
      "execution_count": null,
      "outputs": [
        {
          "output_type": "execute_result",
          "data": {
            "text/plain": [
              "review       25000\n",
              "sentiment    25000\n",
              "dtype: int64"
            ]
          },
          "metadata": {
            "tags": []
          },
          "execution_count": 6
        }
      ]
    },
    {
      "cell_type": "code",
      "metadata": {
        "id": "v_o43P-_TRnd",
        "colab_type": "code",
        "colab": {
          "base_uri": "https://localhost:8080/",
          "height": 68
        },
        "outputId": "6b7e43d4-a01a-4a8b-e16b-0a30813353c3"
      },
      "source": [
        "# Número de labels que representam sentimento negativo\n",
        "df_movies[df_movies.sentiment==0].count()"
      ],
      "execution_count": null,
      "outputs": [
        {
          "output_type": "execute_result",
          "data": {
            "text/plain": [
              "review       25000\n",
              "sentiment    25000\n",
              "dtype: int64"
            ]
          },
          "metadata": {
            "tags": []
          },
          "execution_count": 7
        }
      ]
    },
    {
      "cell_type": "markdown",
      "metadata": {
        "id": "dQFk_8ZSWc48",
        "colab_type": "text"
      },
      "source": [
        "## Transformando documentos em vetores"
      ]
    },
    {
      "cell_type": "code",
      "metadata": {
        "id": "NdQDgN8Jr4bR",
        "colab_type": "code",
        "colab": {}
      },
      "source": [
        "count = CountVectorizer()\n",
        "\n",
        "docs = np.array(['The sun is shinnig',\n",
        "                 'The weather is sweet',\n",
        "                 'The sun if shinning, the weather is sweet and one and one is two'])\n",
        "\n",
        "bag = count.fit_transform(docs)"
      ],
      "execution_count": null,
      "outputs": []
    },
    {
      "cell_type": "code",
      "metadata": {
        "id": "cEQwjGXIsah_",
        "colab_type": "code",
        "colab": {
          "base_uri": "https://localhost:8080/",
          "height": 68
        },
        "outputId": "5da9374d-351f-475a-e0be-e9c9239f67a3"
      },
      "source": [
        "print(bag.toarray())"
      ],
      "execution_count": null,
      "outputs": [
        {
          "output_type": "stream",
          "text": [
            "[[0 0 1 0 1 0 1 0 1 0 0]\n",
            " [0 0 1 0 0 0 0 1 1 0 1]\n",
            " [2 1 2 2 0 1 1 1 2 1 1]]\n"
          ],
          "name": "stdout"
        }
      ]
    },
    {
      "cell_type": "code",
      "metadata": {
        "id": "gdm_GTDGswIR",
        "colab_type": "code",
        "colab": {
          "base_uri": "https://localhost:8080/",
          "height": 35
        },
        "outputId": "ee2f02f1-f0e0-41be-a95b-36b3075749fc"
      },
      "source": [
        "term = df_movies.loc[0,'review'][-50:]\n",
        "term"
      ],
      "execution_count": null,
      "outputs": [
        {
          "output_type": "execute_result",
          "data": {
            "application/vnd.google.colaboratory.intrinsic": {
              "type": "string"
            },
            "text/plain": [
              "'is seven.<br /><br />Title (Brazil): Not Available'"
            ]
          },
          "metadata": {
            "tags": []
          },
          "execution_count": 10
        }
      ]
    },
    {
      "cell_type": "markdown",
      "metadata": {
        "id": "CpYVJXGEWrzq",
        "colab_type": "text"
      },
      "source": [
        "## Preparação dos dados"
      ]
    },
    {
      "cell_type": "code",
      "metadata": {
        "id": "V4wQ8w-Ws5-n",
        "colab_type": "code",
        "colab": {}
      },
      "source": [
        "import re\n",
        "\n",
        "def preprocessor(text):\n",
        "  text = re.sub('<[^>]*>','',text)\n",
        "  emoticons = re.findall('(?::|;|=)(?:-)?(?:\\)|\\(|D|P)', text)\n",
        "  text = re.sub('[\\W]+',' ', text.lower()) +\\\n",
        "    ' '.join(emoticons).replace('-', '')\n",
        "  return text"
      ],
      "execution_count": null,
      "outputs": []
    },
    {
      "cell_type": "code",
      "metadata": {
        "id": "k_wWZf10uGx_",
        "colab_type": "code",
        "colab": {
          "base_uri": "https://localhost:8080/",
          "height": 34
        },
        "outputId": "6bed8e11-2f2e-4b52-c3a4-e88442ff12d9"
      },
      "source": [
        "print(preprocessor(term))"
      ],
      "execution_count": null,
      "outputs": [
        {
          "output_type": "stream",
          "text": [
            "is seven title brazil not available\n"
          ],
          "name": "stdout"
        }
      ]
    },
    {
      "cell_type": "code",
      "metadata": {
        "id": "s58HgnN4udiG",
        "colab_type": "code",
        "colab": {
          "base_uri": "https://localhost:8080/",
          "height": 34
        },
        "outputId": "d19abeb0-026b-435d-a6fe-3ca6e2bb9666"
      },
      "source": [
        "print(preprocessor(\"</a>This ;) is a :( test :-)!\"))"
      ],
      "execution_count": null,
      "outputs": [
        {
          "output_type": "stream",
          "text": [
            "this is a test ;) :( :)\n"
          ],
          "name": "stdout"
        }
      ]
    },
    {
      "cell_type": "code",
      "metadata": {
        "id": "404NAr5ZurIW",
        "colab_type": "code",
        "colab": {}
      },
      "source": [
        "df_movies['review'] = df_movies['review'].apply(preprocessor)"
      ],
      "execution_count": null,
      "outputs": []
    },
    {
      "cell_type": "code",
      "metadata": {
        "id": "YZlUjlLguM2l",
        "colab_type": "code",
        "colab": {
          "base_uri": "https://localhost:8080/",
          "height": 221
        },
        "outputId": "44419249-bc2e-4847-9919-62d9fcf6f726"
      },
      "source": [
        "df_movies['review']"
      ],
      "execution_count": null,
      "outputs": [
        {
          "output_type": "execute_result",
          "data": {
            "text/plain": [
              "0        in 1974 the teenager martha moxley maggie grac...\n",
              "1        ok so i really like kris kristofferson and his...\n",
              "2         spoiler do not read this if you think about w...\n",
              "3        hi for all the people who have seen this wonde...\n",
              "4        i recently bought the dvd forgetting just how ...\n",
              "                               ...                        \n",
              "49995    ok lets start with the best the building altho...\n",
              "49996    the british heritage film industry is out of c...\n",
              "49997    i don t even know where to begin on this one i...\n",
              "49998    richard tyler is a little boy who is scared of...\n",
              "49999    i waited long to watch this movie also because...\n",
              "Name: review, Length: 50000, dtype: object"
            ]
          },
          "metadata": {
            "tags": []
          },
          "execution_count": 15
        }
      ]
    },
    {
      "cell_type": "markdown",
      "metadata": {
        "id": "Fve2HH1EWu3n",
        "colab_type": "text"
      },
      "source": [
        "## Etapa de tokenização dos dados\n",
        "\n",
        "- Consiste oo processo que divide uma sentença em unidades mais básicas"
      ]
    },
    {
      "cell_type": "code",
      "metadata": {
        "id": "MxYRI3U7u7KF",
        "colab_type": "code",
        "colab": {}
      },
      "source": [
        "porter = PorterStemmer()\n",
        "\n",
        "def tokenizer(text):\n",
        "  return text.split()\n",
        "\n",
        "def tokenizer_porter(text):\n",
        "  return [porter.stem(word) for word in text.split()]"
      ],
      "execution_count": null,
      "outputs": []
    },
    {
      "cell_type": "code",
      "metadata": {
        "id": "RFxERDX3vMYO",
        "colab_type": "code",
        "colab": {
          "base_uri": "https://localhost:8080/",
          "height": 34
        },
        "outputId": "c8372034-3461-47c0-b34b-5f3eca8e7835"
      },
      "source": [
        "tokenizer('Luminous beings are we. Not this crude matter.')"
      ],
      "execution_count": null,
      "outputs": [
        {
          "output_type": "execute_result",
          "data": {
            "text/plain": [
              "['Luminous', 'beings', 'are', 'we.', 'Not', 'this', 'crude', 'matter.']"
            ]
          },
          "metadata": {
            "tags": []
          },
          "execution_count": 17
        }
      ]
    },
    {
      "cell_type": "code",
      "metadata": {
        "id": "ju4Gfk5yvSTO",
        "colab_type": "code",
        "colab": {
          "base_uri": "https://localhost:8080/",
          "height": 34
        },
        "outputId": "f412e8e1-c94a-4fb4-d7f2-5e6bf01c51ea"
      },
      "source": [
        "tokenizer_porter('Luminous beings are we. Not this crude matter.')"
      ],
      "execution_count": null,
      "outputs": [
        {
          "output_type": "execute_result",
          "data": {
            "text/plain": [
              "['lumin', 'be', 'are', 'we.', 'not', 'thi', 'crude', 'matter.']"
            ]
          },
          "metadata": {
            "tags": []
          },
          "execution_count": 18
        }
      ]
    },
    {
      "cell_type": "code",
      "metadata": {
        "id": "M9-i5RHWvZDR",
        "colab_type": "code",
        "colab": {
          "base_uri": "https://localhost:8080/",
          "height": 68
        },
        "outputId": "bc25d14b-a232-42b4-a0af-5cc56aa01012"
      },
      "source": [
        "import nltk\n",
        "\n",
        "nltk.download('stopwords')"
      ],
      "execution_count": null,
      "outputs": [
        {
          "output_type": "stream",
          "text": [
            "[nltk_data] Downloading package stopwords to /root/nltk_data...\n",
            "[nltk_data]   Unzipping corpora/stopwords.zip.\n"
          ],
          "name": "stdout"
        },
        {
          "output_type": "execute_result",
          "data": {
            "text/plain": [
              "True"
            ]
          },
          "metadata": {
            "tags": []
          },
          "execution_count": 19
        }
      ]
    },
    {
      "cell_type": "code",
      "metadata": {
        "id": "xq_C_WBYvbrv",
        "colab_type": "code",
        "colab": {
          "base_uri": "https://localhost:8080/",
          "height": 34
        },
        "outputId": "0401f50a-2e89-4301-d76b-9c258859534d"
      },
      "source": [
        "from nltk.corpus import stopwords\n",
        "\n",
        "stop = stopwords.words('english')\n",
        "[w for w in tokenizer_porter('Luminous beings are we. Not this crude matter.')[-10:] if w not in stop]"
      ],
      "execution_count": null,
      "outputs": [
        {
          "output_type": "execute_result",
          "data": {
            "text/plain": [
              "['lumin', 'we.', 'thi', 'crude', 'matter.']"
            ]
          },
          "metadata": {
            "tags": []
          },
          "execution_count": 20
        }
      ]
    },
    {
      "cell_type": "code",
      "metadata": {
        "id": "4nB8INV4tc1n",
        "colab_type": "code",
        "colab": {
          "base_uri": "https://localhost:8080/",
          "height": 119
        },
        "outputId": "facf300b-1374-482d-cbb0-e02649434901"
      },
      "source": [
        "df_movies.review.head()"
      ],
      "execution_count": null,
      "outputs": [
        {
          "output_type": "execute_result",
          "data": {
            "text/plain": [
              "0    in 1974 the teenager martha moxley maggie grac...\n",
              "1    ok so i really like kris kristofferson and his...\n",
              "2     spoiler do not read this if you think about w...\n",
              "3    hi for all the people who have seen this wonde...\n",
              "4    i recently bought the dvd forgetting just how ...\n",
              "Name: review, dtype: object"
            ]
          },
          "metadata": {
            "tags": []
          },
          "execution_count": 21
        }
      ]
    },
    {
      "cell_type": "markdown",
      "metadata": {
        "id": "QUC95iD-wBX-",
        "colab_type": "text"
      },
      "source": [
        "## Transformando documentos em vetores TF-IDF\n",
        "\n",
        "- TF-IDF (Term Frequency - Inverse Document Frequency) - utilizado para diminuir\n",
        "a importância das palabreas exibidas em muitos documentos em comum, que são consideradas de discernir os documentos, em vez de simplesmente contas a frequência das oalavras, como é feito com o CountVectorizer."
      ]
    },
    {
      "cell_type": "code",
      "metadata": {
        "id": "5-78i05dv683",
        "colab_type": "code",
        "colab": {}
      },
      "source": [
        "tfidf = TfidfVectorizer(strip_accents=None,\n",
        "                        lowercase=False,\n",
        "                        preprocessor=None,\n",
        "                        tokenizer = tokenizer_porter,\n",
        "                        use_idf=True,\n",
        "                        norm='l2',\n",
        "                        smooth_idf=True)\n",
        "\n",
        "y = df_movies.sentiment.values\n",
        "X = tfidf.fit_transform(df_movies.review)"
      ],
      "execution_count": null,
      "outputs": []
    },
    {
      "cell_type": "markdown",
      "metadata": {
        "id": "2GeUQWc5W0ql",
        "colab_type": "text"
      },
      "source": [
        "## Classficando documentos utilizando modelo de regressão logística"
      ]
    },
    {
      "cell_type": "code",
      "metadata": {
        "id": "i0duJ9zvvRnm",
        "colab_type": "code",
        "colab": {}
      },
      "source": [
        "from sklearn.model_selection import train_test_split\n",
        "\n",
        "X_train, X_test, y_train, y_test = train_test_split(X, y, random_state=1, test_size=0.5, shuffle=False)"
      ],
      "execution_count": null,
      "outputs": []
    },
    {
      "cell_type": "code",
      "metadata": {
        "id": "r5TGhQHyW94W",
        "colab_type": "code",
        "colab": {
          "base_uri": "https://localhost:8080/",
          "height": 136
        },
        "outputId": "438364ae-66f5-4585-aa73-c530daee08fc"
      },
      "source": [
        "from sklearn.linear_model import LogisticRegressionCV\n",
        "\n",
        "clf = LogisticRegressionCV(\n",
        "    cv=5,\n",
        "    scoring='accuracy',\n",
        "    random_state=0,\n",
        "    n_jobs=-1,\n",
        "    verbose=3,\n",
        "    max_iter=300)\n",
        "\n",
        "clf.fit(X_train, y_train)"
      ],
      "execution_count": null,
      "outputs": [
        {
          "output_type": "stream",
          "text": [
            "[Parallel(n_jobs=-1)]: Using backend LokyBackend with 2 concurrent workers.\n",
            "[Parallel(n_jobs=-1)]: Done   5 out of   5 | elapsed:  2.5min finished\n"
          ],
          "name": "stderr"
        },
        {
          "output_type": "execute_result",
          "data": {
            "text/plain": [
              "LogisticRegressionCV(Cs=10, class_weight=None, cv=5, dual=False,\n",
              "                     fit_intercept=True, intercept_scaling=1.0, l1_ratios=None,\n",
              "                     max_iter=300, multi_class='auto', n_jobs=-1, penalty='l2',\n",
              "                     random_state=0, refit=True, scoring='accuracy',\n",
              "                     solver='lbfgs', tol=0.0001, verbose=3)"
            ]
          },
          "metadata": {
            "tags": []
          },
          "execution_count": 24
        }
      ]
    },
    {
      "cell_type": "markdown",
      "metadata": {
        "id": "9GWWfip4BdOD",
        "colab_type": "text"
      },
      "source": [
        "### Aprende o vocabulário do vetorizador com base nos parametros de treinamento , esse vectorizer será salvo para ser aplicado em uma nova sentença."
      ]
    },
    {
      "cell_type": "code",
      "metadata": {
        "id": "lJuJxu2Y_P9v",
        "colab_type": "code",
        "colab": {}
      },
      "source": [
        "## Salvando vectorizer em um arquivo\n",
        "with open('vectorizer.pkl', 'wb') as f:\n",
        "    pickle.dump(tfidf, f)"
      ],
      "execution_count": null,
      "outputs": []
    },
    {
      "cell_type": "markdown",
      "metadata": {
        "id": "grFK_Y4WXF9F",
        "colab_type": "text"
      },
      "source": [
        "## Salvando modelo em um arquivo"
      ]
    },
    {
      "cell_type": "code",
      "metadata": {
        "id": "vGu6QU0mPIlD",
        "colab_type": "code",
        "colab": {}
      },
      "source": [
        "## Salvando modelo em um arquivo\n",
        "with open('sentiment_analysis_model.pkl', 'wb') as f:\n",
        "    pickle.dump(clf, f)"
      ],
      "execution_count": null,
      "outputs": []
    },
    {
      "cell_type": "code",
      "metadata": {
        "id": "rD9Bdwxsq7Jr",
        "colab_type": "code",
        "colab": {
          "base_uri": "https://localhost:8080/",
          "height": 34
        },
        "outputId": "cac42809-8880-4fcf-a750-757cad514743"
      },
      "source": [
        "print('Precisão do teste: {:.3f}'.format(clf.score(X_test, y_test)))"
      ],
      "execution_count": null,
      "outputs": [
        {
          "output_type": "stream",
          "text": [
            "Precisão do teste: 0.896\n"
          ],
          "name": "stdout"
        }
      ]
    },
    {
      "cell_type": "markdown",
      "metadata": {
        "id": "qt6qDPrfC7e7",
        "colab_type": "text"
      },
      "source": [
        "## Carregando arquivos do modelo e do vetorizados para ser utilizando em novas predições"
      ]
    },
    {
      "cell_type": "code",
      "metadata": {
        "id": "Cj7sjPS4CnWo",
        "colab_type": "code",
        "colab": {}
      },
      "source": [
        "file_model = 'sentiment_analysis_model.pkl'\n",
        "file_vectorizer = 'vectorizer.pkl'\n",
        "\n",
        "with open(file_vectorizer, 'rb') as f:\n",
        "\tvectorizer = pickle.load(f)\n",
        "\n",
        "with open(file_model, 'rb') as f:\n",
        "\tmodel = pickle.load(f)"
      ],
      "execution_count": null,
      "outputs": []
    },
    {
      "cell_type": "code",
      "metadata": {
        "id": "qrw2cG-2tj5y",
        "colab_type": "code",
        "colab": {
          "base_uri": "https://localhost:8080/",
          "height": 34
        },
        "outputId": "db165684-d7b3-4436-a66f-ccfd66436844"
      },
      "source": [
        "# user_input = \"I think I'm a good developer with really good understanding of .NET\"\n",
        "user_input = \"I didn't like this movie, it sucks\"\n",
        "\n",
        "review = vectorizer.transform([str(user_input)])\n",
        "prediction = model.predict(review)\n",
        "result = 'Negativa' if prediction == 0 else 'Positiva'\n",
        "output = {'Predição': result}\n",
        "output"
      ],
      "execution_count": null,
      "outputs": [
        {
          "output_type": "execute_result",
          "data": {
            "text/plain": [
              "{'Predição': 'Negativa'}"
            ]
          },
          "metadata": {
            "tags": []
          },
          "execution_count": 30
        }
      ]
    },
    {
      "cell_type": "code",
      "metadata": {
        "id": "1-kZUjhfFy5C",
        "colab_type": "code",
        "colab": {}
      },
      "source": [
        ""
      ],
      "execution_count": null,
      "outputs": []
    }
  ]
}